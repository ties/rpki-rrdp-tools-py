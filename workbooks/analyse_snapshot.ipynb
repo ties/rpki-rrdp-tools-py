{
 "cells": [
  {
   "cell_type": "code",
   "execution_count": 1,
   "id": "7c9b09f5-79a7-48bb-8a4a-73de577b8fd9",
   "metadata": {},
   "outputs": [],
   "source": [
    "from rrdp_tools.reconstruct import http_get_delta_or_snapshot\n",
    "from rrdp_tools.rrdp import parse_snapshot_or_delta, parse_notification_file\n",
    "\n",
    "import pandas as pd\n",
    "import dataclasses\n",
    "import requests"
   ]
  },
  {
   "cell_type": "code",
   "execution_count": 2,
   "id": "daf5130d-8faa-4168-8937-7d37b7f258b2",
   "metadata": {},
   "outputs": [],
   "source": [
    "notification = parse_notification_file(requests.get(\"https://rrdp.ripe.net/notification.xml\").text)"
   ]
  },
  {
   "cell_type": "code",
   "execution_count": 5,
   "id": "f0cd718d-f114-40d3-ab6e-323cc35db02b",
   "metadata": {},
   "outputs": [
    {
     "data": {
      "text/plain": [
       "'https://rrdp.ripe.net/f351ea8a-62f5-4138-ad36-e93aa102fa88/31488/snapshot-9e16067a62a27c483ef9e4199525da8e8cd179ed87d0c268496bd7366b0621df.xml'"
      ]
     },
     "execution_count": 5,
     "metadata": {},
     "output_type": "execute_result"
    }
   ],
   "source": [
    "notification.snapshot.uri"
   ]
  },
  {
   "cell_type": "code",
   "execution_count": 6,
   "id": "84c50d0f-c61d-4735-9a52-0163c92a3127",
   "metadata": {},
   "outputs": [],
   "source": [
    "snapshot = http_get_delta_or_snapshot(notification.snapshot.uri)"
   ]
  },
  {
   "cell_type": "code",
   "execution_count": 7,
   "id": "46d07c02-95ca-4db7-9993-c3f97e4f7af0",
   "metadata": {},
   "outputs": [],
   "source": [
    "#next(iter(parse_snapshot_or_delta(snapshot)))"
   ]
  },
  {
   "cell_type": "code",
   "execution_count": 8,
   "id": "d5158fd8-0421-4f1f-938f-e4eed7cb993f",
   "metadata": {},
   "outputs": [],
   "source": [
    "df = pd.DataFrame.from_dict([\n",
    "    dataclasses.asdict(elem) for elem in parse_snapshot_or_delta(snapshot)\n",
    "])"
   ]
  },
  {
   "cell_type": "code",
   "execution_count": 9,
   "id": "a8b32d90-018e-4460-901a-937445d3bc79",
   "metadata": {},
   "outputs": [],
   "source": [
    "df[\"num_slashes\"] = df.uri.apply(lambda uri: len(uri.split('/')))\n",
    "df[\"extension\"] = df.uri.apply(lambda uri: uri.split('.')[-1])\n",
    "df[\"size\"] = df.content.apply(len)"
   ]
  },
  {
   "cell_type": "code",
   "execution_count": 10,
   "id": "3db9fbff-3b96-430c-93a6-4a6e2335755a",
   "metadata": {},
   "outputs": [
    {
     "data": {
      "text/html": [
       "<div>\n",
       "<style scoped>\n",
       "    .dataframe tbody tr th:only-of-type {\n",
       "        vertical-align: middle;\n",
       "    }\n",
       "\n",
       "    .dataframe tbody tr th {\n",
       "        vertical-align: top;\n",
       "    }\n",
       "\n",
       "    .dataframe thead th {\n",
       "        text-align: right;\n",
       "    }\n",
       "</style>\n",
       "<table border=\"1\" class=\"dataframe\">\n",
       "  <thead>\n",
       "    <tr style=\"text-align: right;\">\n",
       "      <th></th>\n",
       "      <th></th>\n",
       "      <th>size</th>\n",
       "    </tr>\n",
       "    <tr>\n",
       "      <th>num_slashes</th>\n",
       "      <th>extension</th>\n",
       "      <th></th>\n",
       "    </tr>\n",
       "  </thead>\n",
       "  <tbody>\n",
       "    <tr>\n",
       "      <th rowspan=\"3\" valign=\"top\">5</th>\n",
       "      <th>cer</th>\n",
       "      <td>2297</td>\n",
       "    </tr>\n",
       "    <tr>\n",
       "      <th>crl</th>\n",
       "      <td>555</td>\n",
       "    </tr>\n",
       "    <tr>\n",
       "      <th>mft</th>\n",
       "      <td>1786</td>\n",
       "    </tr>\n",
       "    <tr>\n",
       "      <th rowspan=\"3\" valign=\"top\">6</th>\n",
       "      <th>cer</th>\n",
       "      <td>28788676</td>\n",
       "    </tr>\n",
       "    <tr>\n",
       "      <th>crl</th>\n",
       "      <td>845189</td>\n",
       "    </tr>\n",
       "    <tr>\n",
       "      <th>mft</th>\n",
       "      <td>1395935</td>\n",
       "    </tr>\n",
       "    <tr>\n",
       "      <th rowspan=\"3\" valign=\"top\">9</th>\n",
       "      <th>crl</th>\n",
       "      <td>13242932</td>\n",
       "    </tr>\n",
       "    <tr>\n",
       "      <th>mft</th>\n",
       "      <td>40216248</td>\n",
       "    </tr>\n",
       "    <tr>\n",
       "      <th>roa</th>\n",
       "      <td>64114376</td>\n",
       "    </tr>\n",
       "  </tbody>\n",
       "</table>\n",
       "</div>"
      ],
      "text/plain": [
       "                           size\n",
       "num_slashes extension          \n",
       "5           cer            2297\n",
       "            crl             555\n",
       "            mft            1786\n",
       "6           cer        28788676\n",
       "            crl          845189\n",
       "            mft         1395935\n",
       "9           crl        13242932\n",
       "            mft        40216248\n",
       "            roa        64114376"
      ]
     },
     "execution_count": 10,
     "metadata": {},
     "output_type": "execute_result"
    }
   ],
   "source": [
    "df[['num_slashes', 'extension', 'size']].groupby(['num_slashes', 'extension']).sum()"
   ]
  },
  {
   "cell_type": "code",
   "execution_count": 11,
   "id": "a4a2d0e4-89a4-4156-812b-9de61223ffea",
   "metadata": {},
   "outputs": [
    {
     "name": "stdout",
     "output_type": "stream",
     "text": [
      "|    |   num_slashes | extension   |     size |\n",
      "|---:|--------------:|:------------|---------:|\n",
      "|  0 |             5 | cer         |     2297 |\n",
      "|  1 |             5 | crl         |      555 |\n",
      "|  2 |             5 | mft         |     1786 |\n",
      "|  3 |             6 | cer         | 28788676 |\n",
      "|  4 |             6 | crl         |   845189 |\n",
      "|  5 |             6 | mft         |  1395935 |\n",
      "|  6 |             9 | crl         | 13242932 |\n",
      "|  7 |             9 | mft         | 40216248 |\n",
      "|  8 |             9 | roa         | 64114376 |\n"
     ]
    }
   ],
   "source": [
    "print(df[['num_slashes', 'extension', 'size']].groupby(['num_slashes', 'extension']).sum().reset_index().to_markdown())"
   ]
  },
  {
   "cell_type": "code",
   "execution_count": 12,
   "id": "a38eb967-0d58-4cf8-b708-2b1b8c8d83f3",
   "metadata": {},
   "outputs": [
    {
     "data": {
      "text/html": [
       "<div>\n",
       "<style scoped>\n",
       "    .dataframe tbody tr th:only-of-type {\n",
       "        vertical-align: middle;\n",
       "    }\n",
       "\n",
       "    .dataframe tbody tr th {\n",
       "        vertical-align: top;\n",
       "    }\n",
       "\n",
       "    .dataframe thead th {\n",
       "        text-align: right;\n",
       "    }\n",
       "</style>\n",
       "<table border=\"1\" class=\"dataframe\">\n",
       "  <thead>\n",
       "    <tr style=\"text-align: right;\">\n",
       "      <th></th>\n",
       "      <th></th>\n",
       "      <th>size</th>\n",
       "    </tr>\n",
       "    <tr>\n",
       "      <th>num_slashes</th>\n",
       "      <th>extension</th>\n",
       "      <th></th>\n",
       "    </tr>\n",
       "  </thead>\n",
       "  <tbody>\n",
       "    <tr>\n",
       "      <th rowspan=\"3\" valign=\"top\">5</th>\n",
       "      <th>cer</th>\n",
       "      <td>2297</td>\n",
       "    </tr>\n",
       "    <tr>\n",
       "      <th>crl</th>\n",
       "      <td>555</td>\n",
       "    </tr>\n",
       "    <tr>\n",
       "      <th>mft</th>\n",
       "      <td>1786</td>\n",
       "    </tr>\n",
       "    <tr>\n",
       "      <th rowspan=\"3\" valign=\"top\">6</th>\n",
       "      <th>cer</th>\n",
       "      <td>28788676</td>\n",
       "    </tr>\n",
       "    <tr>\n",
       "      <th>crl</th>\n",
       "      <td>845189</td>\n",
       "    </tr>\n",
       "    <tr>\n",
       "      <th>mft</th>\n",
       "      <td>1395935</td>\n",
       "    </tr>\n",
       "    <tr>\n",
       "      <th rowspan=\"3\" valign=\"top\">9</th>\n",
       "      <th>crl</th>\n",
       "      <td>13242932</td>\n",
       "    </tr>\n",
       "    <tr>\n",
       "      <th>mft</th>\n",
       "      <td>40216248</td>\n",
       "    </tr>\n",
       "    <tr>\n",
       "      <th>roa</th>\n",
       "      <td>64114376</td>\n",
       "    </tr>\n",
       "  </tbody>\n",
       "</table>\n",
       "</div>"
      ],
      "text/plain": [
       "                           size\n",
       "num_slashes extension          \n",
       "5           cer            2297\n",
       "            crl             555\n",
       "            mft            1786\n",
       "6           cer        28788676\n",
       "            crl          845189\n",
       "            mft         1395935\n",
       "9           crl        13242932\n",
       "            mft        40216248\n",
       "            roa        64114376"
      ]
     },
     "execution_count": 12,
     "metadata": {},
     "output_type": "execute_result"
    }
   ],
   "source": [
    "df[['num_slashes', 'extension', 'size']].groupby(['num_slashes', 'extension']).sum()"
   ]
  },
  {
   "cell_type": "code",
   "execution_count": 14,
   "id": "cb167f83-36ae-4de4-9ed5-4ecb677aef04",
   "metadata": {},
   "outputs": [
    {
     "name": "stdout",
     "output_type": "stream",
     "text": [
      "|    |   num_slashes | extension   |    size |\n",
      "|---:|--------------:|:------------|--------:|\n",
      "|  0 |             5 | cer         |    1259 |\n",
      "|  1 |             5 | crl         |     555 |\n",
      "|  2 |             5 | mft         |    1786 |\n",
      "|  3 |             6 | cer         |   30967 |\n",
      "|  4 |             6 | crl         |  835047 |\n",
      "|  5 |             6 | mft         | 1394023 |\n",
      "|  6 |             9 | crl         |  752359 |\n",
      "|  7 |             9 | mft         |   26365 |\n",
      "|  8 |             9 | roa         |   74004 |\n"
     ]
    }
   ],
   "source": [
    "print(df[['num_slashes', 'extension', 'size']].groupby(['num_slashes', 'extension']).max().reset_index().to_markdown())"
   ]
  },
  {
   "cell_type": "code",
   "execution_count": 15,
   "id": "36fe840b-45eb-496a-866b-9aead9676bd5",
   "metadata": {},
   "outputs": [
    {
     "data": {
      "text/html": [
       "<div>\n",
       "<style scoped>\n",
       "    .dataframe tbody tr th:only-of-type {\n",
       "        vertical-align: middle;\n",
       "    }\n",
       "\n",
       "    .dataframe tbody tr th {\n",
       "        vertical-align: top;\n",
       "    }\n",
       "\n",
       "    .dataframe thead th {\n",
       "        text-align: right;\n",
       "    }\n",
       "</style>\n",
       "<table border=\"1\" class=\"dataframe\">\n",
       "  <thead>\n",
       "    <tr style=\"text-align: right;\">\n",
       "      <th></th>\n",
       "      <th></th>\n",
       "      <th>size</th>\n",
       "    </tr>\n",
       "    <tr>\n",
       "      <th>num_slashes</th>\n",
       "      <th>extension</th>\n",
       "      <th></th>\n",
       "    </tr>\n",
       "  </thead>\n",
       "  <tbody>\n",
       "    <tr>\n",
       "      <th rowspan=\"3\" valign=\"top\">5</th>\n",
       "      <th>cer</th>\n",
       "      <td>1259</td>\n",
       "    </tr>\n",
       "    <tr>\n",
       "      <th>crl</th>\n",
       "      <td>555</td>\n",
       "    </tr>\n",
       "    <tr>\n",
       "      <th>mft</th>\n",
       "      <td>1786</td>\n",
       "    </tr>\n",
       "    <tr>\n",
       "      <th rowspan=\"3\" valign=\"top\">6</th>\n",
       "      <th>cer</th>\n",
       "      <td>30967</td>\n",
       "    </tr>\n",
       "    <tr>\n",
       "      <th>crl</th>\n",
       "      <td>835047</td>\n",
       "    </tr>\n",
       "    <tr>\n",
       "      <th>mft</th>\n",
       "      <td>1394023</td>\n",
       "    </tr>\n",
       "    <tr>\n",
       "      <th rowspan=\"3\" valign=\"top\">9</th>\n",
       "      <th>crl</th>\n",
       "      <td>752359</td>\n",
       "    </tr>\n",
       "    <tr>\n",
       "      <th>mft</th>\n",
       "      <td>26365</td>\n",
       "    </tr>\n",
       "    <tr>\n",
       "      <th>roa</th>\n",
       "      <td>74004</td>\n",
       "    </tr>\n",
       "  </tbody>\n",
       "</table>\n",
       "</div>"
      ],
      "text/plain": [
       "                          size\n",
       "num_slashes extension         \n",
       "5           cer           1259\n",
       "            crl            555\n",
       "            mft           1786\n",
       "6           cer          30967\n",
       "            crl         835047\n",
       "            mft        1394023\n",
       "9           crl         752359\n",
       "            mft          26365\n",
       "            roa          74004"
      ]
     },
     "execution_count": 15,
     "metadata": {},
     "output_type": "execute_result"
    }
   ],
   "source": [
    "df[['num_slashes', 'extension', 'size']].groupby(['num_slashes', 'extension']).max()"
   ]
  },
  {
   "cell_type": "code",
   "execution_count": 20,
   "id": "d8593395-8e96-4836-8a83-06eb1c72a5bb",
   "metadata": {},
   "outputs": [
    {
     "data": {
      "text/html": [
       "<div>\n",
       "<style scoped>\n",
       "    .dataframe tbody tr th:only-of-type {\n",
       "        vertical-align: middle;\n",
       "    }\n",
       "\n",
       "    .dataframe tbody tr th {\n",
       "        vertical-align: top;\n",
       "    }\n",
       "\n",
       "    .dataframe thead th {\n",
       "        text-align: right;\n",
       "    }\n",
       "</style>\n",
       "<table border=\"1\" class=\"dataframe\">\n",
       "  <thead>\n",
       "    <tr style=\"text-align: right;\">\n",
       "      <th></th>\n",
       "      <th>uri</th>\n",
       "      <th>hash</th>\n",
       "      <th>content</th>\n",
       "      <th>h_content</th>\n",
       "      <th>num_slashes</th>\n",
       "      <th>extension</th>\n",
       "      <th>size</th>\n",
       "    </tr>\n",
       "  </thead>\n",
       "  <tbody>\n",
       "    <tr>\n",
       "      <th>30059</th>\n",
       "      <td>rsync://rpki.ripe.net/repository/DEFAULT/5e/79...</td>\n",
       "      <td>None</td>\n",
       "      <td>b'0\\x83\\x0bz\\xe20\\x83\\x0by\\xc9\\x02\\x01\\x010\\r\\...</td>\n",
       "      <td>ca240c09d41373202849d2312865561d2358c4ae2aa5e9...</td>\n",
       "      <td>9</td>\n",
       "      <td>crl</td>\n",
       "      <td>752359</td>\n",
       "    </tr>\n",
       "    <tr>\n",
       "      <th>83602</th>\n",
       "      <td>rsync://rpki.ripe.net/repository/DEFAULT/KpSo3...</td>\n",
       "      <td>None</td>\n",
       "      <td>b'0\\x83\\x0c\\xbd\\xe20\\x83\\x0c\\xbc\\xc9\\x02\\x01\\x...</td>\n",
       "      <td>37b32cde0f91f7f8dba107367f0d816b2e773d9cbca1d3...</td>\n",
       "      <td>6</td>\n",
       "      <td>crl</td>\n",
       "      <td>835047</td>\n",
       "    </tr>\n",
       "    <tr>\n",
       "      <th>83603</th>\n",
       "      <td>rsync://rpki.ripe.net/repository/DEFAULT/KpSo3...</td>\n",
       "      <td>None</td>\n",
       "      <td>b'0\\x83\\x15Eb\\x06\\t*\\x86H\\x86\\xf7\\r\\x01\\x07\\x0...</td>\n",
       "      <td>5e64a62715b9b4ab5b97ea5ace58cbc9f331334c6dd33f...</td>\n",
       "      <td>6</td>\n",
       "      <td>mft</td>\n",
       "      <td>1394023</td>\n",
       "    </tr>\n",
       "  </tbody>\n",
       "</table>\n",
       "</div>"
      ],
      "text/plain": [
       "                                                     uri  hash   \n",
       "30059  rsync://rpki.ripe.net/repository/DEFAULT/5e/79...  None  \\\n",
       "83602  rsync://rpki.ripe.net/repository/DEFAULT/KpSo3...  None   \n",
       "83603  rsync://rpki.ripe.net/repository/DEFAULT/KpSo3...  None   \n",
       "\n",
       "                                                 content   \n",
       "30059  b'0\\x83\\x0bz\\xe20\\x83\\x0by\\xc9\\x02\\x01\\x010\\r\\...  \\\n",
       "83602  b'0\\x83\\x0c\\xbd\\xe20\\x83\\x0c\\xbc\\xc9\\x02\\x01\\x...   \n",
       "83603  b'0\\x83\\x15Eb\\x06\\t*\\x86H\\x86\\xf7\\r\\x01\\x07\\x0...   \n",
       "\n",
       "                                               h_content  num_slashes   \n",
       "30059  ca240c09d41373202849d2312865561d2358c4ae2aa5e9...            9  \\\n",
       "83602  37b32cde0f91f7f8dba107367f0d816b2e773d9cbca1d3...            6   \n",
       "83603  5e64a62715b9b4ab5b97ea5ace58cbc9f331334c6dd33f...            6   \n",
       "\n",
       "      extension     size  \n",
       "30059       crl   752359  \n",
       "83602       crl   835047  \n",
       "83603       mft  1394023  "
      ]
     },
     "execution_count": 20,
     "metadata": {},
     "output_type": "execute_result"
    }
   ],
   "source": [
    "df[df['size'] > 100000]"
   ]
  },
  {
   "cell_type": "code",
   "execution_count": 31,
   "id": "911edcbd-d925-47d0-b24e-529f68c0204a",
   "metadata": {},
   "outputs": [],
   "source": [
    "import base64\n",
    "\n",
    "with open('file.crl', 'wb') as f:\n",
    "    f.write(df.iloc[30059].content)"
   ]
  },
  {
   "cell_type": "code",
   "execution_count": 30,
   "id": "c3404290-669b-45ba-a353-cb92ecf42da4",
   "metadata": {},
   "outputs": [
    {
     "data": {
      "text/plain": [
       "uri            rsync://rpki.ripe.net/repository/DEFAULT/5e/79...\n",
       "hash                                                        None\n",
       "content        b'0\\x83\\x0bz\\xe20\\x83\\x0by\\xc9\\x02\\x01\\x010\\r\\...\n",
       "h_content      ca240c09d41373202849d2312865561d2358c4ae2aa5e9...\n",
       "num_slashes                                                    9\n",
       "extension                                                    crl\n",
       "size                                                      752359\n",
       "Name: 30059, dtype: object"
      ]
     },
     "execution_count": 30,
     "metadata": {},
     "output_type": "execute_result"
    }
   ],
   "source": [
    "df.iloc[30059]"
   ]
  },
  {
   "cell_type": "code",
   "execution_count": null,
   "id": "a4b40312-2fac-43dc-a08a-cdad19d2ca93",
   "metadata": {},
   "outputs": [],
   "source": []
  }
 ],
 "metadata": {
  "kernelspec": {
   "display_name": "Python 3 (ipykernel)",
   "language": "python",
   "name": "python3"
  },
  "language_info": {
   "codemirror_mode": {
    "name": "ipython",
    "version": 3
   },
   "file_extension": ".py",
   "mimetype": "text/x-python",
   "name": "python",
   "nbconvert_exporter": "python",
   "pygments_lexer": "ipython3",
   "version": "3.11.4"
  }
 },
 "nbformat": 4,
 "nbformat_minor": 5
}
