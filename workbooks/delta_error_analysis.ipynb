{
 "cells": [
  {
   "cell_type": "code",
   "execution_count": 49,
   "id": "44ce83ab-084f-4211-b888-4c5284eea7e0",
   "metadata": {},
   "outputs": [],
   "source": [
    "import glob\n",
    "import concurrent.futures\n",
    "\n",
    "from dataclasses import dataclass\n",
    "from typing import Optional\n",
    "from pathlib import Path\n",
    "\n",
    "import sys\n",
    "sys.path.insert(0, '..')\n",
    "\n",
    "from rrdp_tools.rrdp import parse_snapshot_or_delta, UnexpectedDocumentException, ValidationException\n",
    "\n",
    "import pandas as pd\n",
    "import dataclasses\n",
    "import requests\n",
    "import pathlib\n",
    "import urllib\n",
    "import re"
   ]
  },
  {
   "cell_type": "code",
   "execution_count": 2,
   "id": "47eab77d-6db9-4028-bc6d-7c404bfbd5db",
   "metadata": {},
   "outputs": [],
   "source": [
    "files = glob.glob(\"/srv/timemachine/bulk/**/*/*.xml\")"
   ]
  },
  {
   "cell_type": "code",
   "execution_count": 51,
   "id": "3ac42e0b-3205-4427-916b-b04d6ef88ec4",
   "metadata": {},
   "outputs": [],
   "source": [
    "FILE_HASH_RE = re.compile(r'[0-9]+\\.xml')"
   ]
  },
  {
   "cell_type": "code",
   "execution_count": 53,
   "id": "9c7d18de-b957-4f34-81b7-eb32eaf79a59",
   "metadata": {},
   "outputs": [
    {
     "data": {
      "text/plain": [
       "40508"
      ]
     },
     "metadata": {},
     "output_type": "display_data"
    },
    {
     "data": {
      "text/plain": [
       "185045"
      ]
     },
     "metadata": {},
     "output_type": "display_data"
    }
   ],
   "source": [
    "files_without_hash = [f for f in  files if FILE_HASH_RE.match(Path(f).name)]\n",
    "display(len(files_without_hash))\n",
    "display(len(files))"
   ]
  },
  {
   "cell_type": "code",
   "execution_count": 4,
   "id": "76875a97-259e-454e-a461-aaa1f17af049",
   "metadata": {},
   "outputs": [],
   "source": [
    "@dataclass\n",
    "class FileResult:\n",
    "    file: str\n",
    "    status: str\n",
    "    serial: Optional[int] = None\n",
    "    session: Optional[str] = None\n",
    "    num_entries: int = 0\n",
    "    first_uri: Optional[str] = None\n",
    "\n",
    "\n",
    "def process_delta(file):\n",
    "    try:\n",
    "        parsed = parse_snapshot_or_delta(file)\n",
    "        return FileResult(file, \"parsed\", parsed.serial, parsed.session_id, len(parsed.content), parsed.content[0].uri)\n",
    "    except UnexpectedDocumentException:\n",
    "        return FileResult(file, \"unexpected_document\")\n",
    "    except ValidationException:\n",
    "        return FileResult(file, \"invalid_xml_schema\")\n",
    "\n",
    "\n",
    "def extract_host(url: Optional[str]) -> str:\n",
    "    try:\n",
    "        parsed = urllib.parse.urlparse(url)\n",
    "        return parsed.hostname\n",
    "    except:\n",
    "        return None"
   ]
  },
  {
   "cell_type": "markdown",
   "id": "873511ed-0e6d-4da7-b740-4aa7b4f198e8",
   "metadata": {},
   "source": [
    "Process all the deltas in the archive to see how many cases of >1 file for a serial are present. This will only work with the deltas that have a hash in their filename.\n",
    "\n",
    "As another efect this will give some statistics on delta content size."
   ]
  },
  {
   "cell_type": "code",
   "execution_count": 54,
   "id": "02d65d95-c154-4b37-8e2a-e5dd624e551b",
   "metadata": {},
   "outputs": [
    {
     "data": {
      "text/plain": [
       "'Number of target files: 144537 out of 185045'"
      ]
     },
     "metadata": {},
     "output_type": "display_data"
    }
   ],
   "source": [
    "result = []\n",
    "target_files = list(set(files) - set(files_without_hash))\n",
    "display(f\"Number of target files: {len(target_files)} out of {len(files)}\")\n",
    "\n",
    "with concurrent.futures.ProcessPoolExecutor() as executor:\n",
    "    result = list(executor.map(process_delta, target_files))\n",
    "\n",
    "df = pd.DataFrame(result)\n",
    "df['uri'] = df.first_uri.apply(extract_host)\n",
    "df['dir'] = df.file.apply(lambda x: x.split(\"bulk/\")[1].split(\"/\")[0])\n"
   ]
  },
  {
   "cell_type": "code",
   "execution_count": null,
   "id": "7a30acc6-a674-444b-acb4-4b5d34086a7b",
   "metadata": {},
   "outputs": [],
   "source": []
  },
  {
   "cell_type": "code",
   "execution_count": 74,
   "id": "3b03a585-06de-45d3-807c-0d3bd5673206",
   "metadata": {},
   "outputs": [
    {
     "data": {
      "text/html": [
       "<div>\n",
       "<style scoped>\n",
       "    .dataframe tbody tr th:only-of-type {\n",
       "        vertical-align: middle;\n",
       "    }\n",
       "\n",
       "    .dataframe tbody tr th {\n",
       "        vertical-align: top;\n",
       "    }\n",
       "\n",
       "    .dataframe thead th {\n",
       "        text-align: right;\n",
       "    }\n",
       "</style>\n",
       "<table border=\"1\" class=\"dataframe\">\n",
       "  <thead>\n",
       "    <tr style=\"text-align: right;\">\n",
       "      <th></th>\n",
       "      <th>file</th>\n",
       "      <th>status</th>\n",
       "      <th>serial</th>\n",
       "      <th>session</th>\n",
       "      <th>num_entries</th>\n",
       "      <th>first_uri</th>\n",
       "      <th>uri</th>\n",
       "      <th>dir</th>\n",
       "    </tr>\n",
       "  </thead>\n",
       "  <tbody>\n",
       "    <tr>\n",
       "      <th>0</th>\n",
       "      <td>/srv/timemachine/bulk/files-paas/1c33ba5d-4e16...</td>\n",
       "      <td>parsed</td>\n",
       "      <td>71090.0</td>\n",
       "      <td>1c33ba5d-4e16-448d-9a22-b12599ef1cba</td>\n",
       "      <td>2</td>\n",
       "      <td>rsync://rsync.paas.rpki.ripe.net/repository/7b...</td>\n",
       "      <td>rsync.paas.rpki.ripe.net</td>\n",
       "      <td>files-paas</td>\n",
       "    </tr>\n",
       "    <tr>\n",
       "      <th>1</th>\n",
       "      <td>/srv/timemachine/bulk/files-lacnic/61a52eef-1b...</td>\n",
       "      <td>parsed</td>\n",
       "      <td>68.0</td>\n",
       "      <td>61a52eef-1ba9-4a96-8995-bc9437c61355</td>\n",
       "      <td>162</td>\n",
       "      <td>rsync://repository.lacnic.net/rpki/lacnic/241b...</td>\n",
       "      <td>repository.lacnic.net</td>\n",
       "      <td>files-lacnic</td>\n",
       "    </tr>\n",
       "    <tr>\n",
       "      <th>2</th>\n",
       "      <td>/srv/timemachine/bulk/files-apnic/2451f731-01a...</td>\n",
       "      <td>parsed</td>\n",
       "      <td>90407.0</td>\n",
       "      <td>2451f731-01a7-4188-801b-6d6ee66fca1d</td>\n",
       "      <td>12</td>\n",
       "      <td>rsync://rpki.apnic.net/member_repository/A916E...</td>\n",
       "      <td>rpki.apnic.net</td>\n",
       "      <td>files-apnic</td>\n",
       "    </tr>\n",
       "    <tr>\n",
       "      <th>3</th>\n",
       "      <td>/srv/timemachine/bulk/files-paas/1c33ba5d-4e16...</td>\n",
       "      <td>parsed</td>\n",
       "      <td>64262.0</td>\n",
       "      <td>1c33ba5d-4e16-448d-9a22-b12599ef1cba</td>\n",
       "      <td>2</td>\n",
       "      <td>rsync://rsync.paas.rpki.ripe.net/repository/fc...</td>\n",
       "      <td>rsync.paas.rpki.ripe.net</td>\n",
       "      <td>files-paas</td>\n",
       "    </tr>\n",
       "    <tr>\n",
       "      <th>4</th>\n",
       "      <td>/srv/timemachine/bulk/files-lacnic/f4df615d-df...</td>\n",
       "      <td>parsed</td>\n",
       "      <td>5.0</td>\n",
       "      <td>f4df615d-dff2-480b-93ed-e0fecda07c36</td>\n",
       "      <td>820</td>\n",
       "      <td>rsync://repository.lacnic.net/rpki/lacnic/cdbf...</td>\n",
       "      <td>repository.lacnic.net</td>\n",
       "      <td>files-lacnic</td>\n",
       "    </tr>\n",
       "    <tr>\n",
       "      <th>...</th>\n",
       "      <td>...</td>\n",
       "      <td>...</td>\n",
       "      <td>...</td>\n",
       "      <td>...</td>\n",
       "      <td>...</td>\n",
       "      <td>...</td>\n",
       "      <td>...</td>\n",
       "      <td>...</td>\n",
       "    </tr>\n",
       "    <tr>\n",
       "      <th>144532</th>\n",
       "      <td>/srv/timemachine/bulk/files-nicbr/aa4bfebe-4ea...</td>\n",
       "      <td>parsed</td>\n",
       "      <td>327198.0</td>\n",
       "      <td>aa4bfebe-4ea2-44f5-9da7-9492753e8e98</td>\n",
       "      <td>6</td>\n",
       "      <td>rsync://rpki-repo.registro.br/repo/9SGb9oSxuzE...</td>\n",
       "      <td>rpki-repo.registro.br</td>\n",
       "      <td>files-nicbr</td>\n",
       "    </tr>\n",
       "    <tr>\n",
       "      <th>144533</th>\n",
       "      <td>/srv/timemachine/bulk/files-nicbr/aa4bfebe-4ea...</td>\n",
       "      <td>parsed</td>\n",
       "      <td>293055.0</td>\n",
       "      <td>aa4bfebe-4ea2-44f5-9da7-9492753e8e98</td>\n",
       "      <td>6</td>\n",
       "      <td>rsync://rpki-repo.registro.br/repo/G95uSNd8BkH...</td>\n",
       "      <td>rpki-repo.registro.br</td>\n",
       "      <td>files-nicbr</td>\n",
       "    </tr>\n",
       "    <tr>\n",
       "      <th>144534</th>\n",
       "      <td>/srv/timemachine/bulk/files-paas/1c33ba5d-4e16...</td>\n",
       "      <td>parsed</td>\n",
       "      <td>66494.0</td>\n",
       "      <td>1c33ba5d-4e16-448d-9a22-b12599ef1cba</td>\n",
       "      <td>2</td>\n",
       "      <td>rsync://rsync.paas.rpki.ripe.net/repository/83...</td>\n",
       "      <td>rsync.paas.rpki.ripe.net</td>\n",
       "      <td>files-paas</td>\n",
       "    </tr>\n",
       "    <tr>\n",
       "      <th>144535</th>\n",
       "      <td>/srv/timemachine/bulk/files-nicbr/aa4bfebe-4ea...</td>\n",
       "      <td>parsed</td>\n",
       "      <td>330617.0</td>\n",
       "      <td>aa4bfebe-4ea2-44f5-9da7-9492753e8e98</td>\n",
       "      <td>7</td>\n",
       "      <td>rsync://rpki-repo.registro.br/repo/nicbr_repo/...</td>\n",
       "      <td>rpki-repo.registro.br</td>\n",
       "      <td>files-nicbr</td>\n",
       "    </tr>\n",
       "    <tr>\n",
       "      <th>144536</th>\n",
       "      <td>/srv/timemachine/bulk/files-nicbr/aa4bfebe-4ea...</td>\n",
       "      <td>parsed</td>\n",
       "      <td>322328.0</td>\n",
       "      <td>aa4bfebe-4ea2-44f5-9da7-9492753e8e98</td>\n",
       "      <td>2</td>\n",
       "      <td>rsync://rpki-repo.registro.br/repo/BFn7LQ2HsnA...</td>\n",
       "      <td>rpki-repo.registro.br</td>\n",
       "      <td>files-nicbr</td>\n",
       "    </tr>\n",
       "  </tbody>\n",
       "</table>\n",
       "<p>144537 rows × 8 columns</p>\n",
       "</div>"
      ],
      "text/plain": [
       "                                                     file  status    serial  \\\n",
       "0       /srv/timemachine/bulk/files-paas/1c33ba5d-4e16...  parsed   71090.0   \n",
       "1       /srv/timemachine/bulk/files-lacnic/61a52eef-1b...  parsed      68.0   \n",
       "2       /srv/timemachine/bulk/files-apnic/2451f731-01a...  parsed   90407.0   \n",
       "3       /srv/timemachine/bulk/files-paas/1c33ba5d-4e16...  parsed   64262.0   \n",
       "4       /srv/timemachine/bulk/files-lacnic/f4df615d-df...  parsed       5.0   \n",
       "...                                                   ...     ...       ...   \n",
       "144532  /srv/timemachine/bulk/files-nicbr/aa4bfebe-4ea...  parsed  327198.0   \n",
       "144533  /srv/timemachine/bulk/files-nicbr/aa4bfebe-4ea...  parsed  293055.0   \n",
       "144534  /srv/timemachine/bulk/files-paas/1c33ba5d-4e16...  parsed   66494.0   \n",
       "144535  /srv/timemachine/bulk/files-nicbr/aa4bfebe-4ea...  parsed  330617.0   \n",
       "144536  /srv/timemachine/bulk/files-nicbr/aa4bfebe-4ea...  parsed  322328.0   \n",
       "\n",
       "                                     session  num_entries  \\\n",
       "0       1c33ba5d-4e16-448d-9a22-b12599ef1cba            2   \n",
       "1       61a52eef-1ba9-4a96-8995-bc9437c61355          162   \n",
       "2       2451f731-01a7-4188-801b-6d6ee66fca1d           12   \n",
       "3       1c33ba5d-4e16-448d-9a22-b12599ef1cba            2   \n",
       "4       f4df615d-dff2-480b-93ed-e0fecda07c36          820   \n",
       "...                                      ...          ...   \n",
       "144532  aa4bfebe-4ea2-44f5-9da7-9492753e8e98            6   \n",
       "144533  aa4bfebe-4ea2-44f5-9da7-9492753e8e98            6   \n",
       "144534  1c33ba5d-4e16-448d-9a22-b12599ef1cba            2   \n",
       "144535  aa4bfebe-4ea2-44f5-9da7-9492753e8e98            7   \n",
       "144536  aa4bfebe-4ea2-44f5-9da7-9492753e8e98            2   \n",
       "\n",
       "                                                first_uri  \\\n",
       "0       rsync://rsync.paas.rpki.ripe.net/repository/7b...   \n",
       "1       rsync://repository.lacnic.net/rpki/lacnic/241b...   \n",
       "2       rsync://rpki.apnic.net/member_repository/A916E...   \n",
       "3       rsync://rsync.paas.rpki.ripe.net/repository/fc...   \n",
       "4       rsync://repository.lacnic.net/rpki/lacnic/cdbf...   \n",
       "...                                                   ...   \n",
       "144532  rsync://rpki-repo.registro.br/repo/9SGb9oSxuzE...   \n",
       "144533  rsync://rpki-repo.registro.br/repo/G95uSNd8BkH...   \n",
       "144534  rsync://rsync.paas.rpki.ripe.net/repository/83...   \n",
       "144535  rsync://rpki-repo.registro.br/repo/nicbr_repo/...   \n",
       "144536  rsync://rpki-repo.registro.br/repo/BFn7LQ2HsnA...   \n",
       "\n",
       "                             uri           dir  \n",
       "0       rsync.paas.rpki.ripe.net    files-paas  \n",
       "1          repository.lacnic.net  files-lacnic  \n",
       "2                 rpki.apnic.net   files-apnic  \n",
       "3       rsync.paas.rpki.ripe.net    files-paas  \n",
       "4          repository.lacnic.net  files-lacnic  \n",
       "...                          ...           ...  \n",
       "144532     rpki-repo.registro.br   files-nicbr  \n",
       "144533     rpki-repo.registro.br   files-nicbr  \n",
       "144534  rsync.paas.rpki.ripe.net    files-paas  \n",
       "144535     rpki-repo.registro.br   files-nicbr  \n",
       "144536     rpki-repo.registro.br   files-nicbr  \n",
       "\n",
       "[144537 rows x 8 columns]"
      ]
     },
     "execution_count": 74,
     "metadata": {},
     "output_type": "execute_result"
    }
   ],
   "source": [
    "df"
   ]
  },
  {
   "cell_type": "code",
   "execution_count": 83,
   "id": "7ec1f8ae-dc50-4d3b-b43d-5034cbbe0e05",
   "metadata": {},
   "outputs": [],
   "source": [
    "df_cnt = df.groupby(['dir', 'uri', 'session', 'serial']).count()"
   ]
  },
  {
   "cell_type": "code",
   "execution_count": 89,
   "id": "c7a5c53b-38b7-4a6b-aa88-595a162c7b20",
   "metadata": {},
   "outputs": [
    {
     "data": {
      "text/html": [
       "<div>\n",
       "<style scoped>\n",
       "    .dataframe tbody tr th:only-of-type {\n",
       "        vertical-align: middle;\n",
       "    }\n",
       "\n",
       "    .dataframe tbody tr th {\n",
       "        vertical-align: top;\n",
       "    }\n",
       "\n",
       "    .dataframe thead th {\n",
       "        text-align: right;\n",
       "    }\n",
       "</style>\n",
       "<table border=\"1\" class=\"dataframe\">\n",
       "  <thead>\n",
       "    <tr style=\"text-align: right;\">\n",
       "      <th></th>\n",
       "      <th>dir</th>\n",
       "      <th>uri</th>\n",
       "      <th>session</th>\n",
       "      <th>serial</th>\n",
       "      <th>file</th>\n",
       "      <th>status</th>\n",
       "      <th>num_entries</th>\n",
       "      <th>first_uri</th>\n",
       "    </tr>\n",
       "  </thead>\n",
       "  <tbody>\n",
       "  </tbody>\n",
       "</table>\n",
       "</div>"
      ],
      "text/plain": [
       "Empty DataFrame\n",
       "Columns: [dir, uri, session, serial, file, status, num_entries, first_uri]\n",
       "Index: []"
      ]
     },
     "metadata": {},
     "output_type": "display_data"
    }
   ],
   "source": [
    "df_doubles = df_cnt.reset_index()[df_cnt.reset_index().file > 1]\n",
    "display(df_doubles)"
   ]
  },
  {
   "cell_type": "code",
   "execution_count": 85,
   "id": "f11ac97f-4d1c-4cf8-b33a-bd603687ce52",
   "metadata": {},
   "outputs": [
    {
     "data": {
      "text/html": [
       "<div>\n",
       "<style scoped>\n",
       "    .dataframe tbody tr th:only-of-type {\n",
       "        vertical-align: middle;\n",
       "    }\n",
       "\n",
       "    .dataframe tbody tr th {\n",
       "        vertical-align: top;\n",
       "    }\n",
       "\n",
       "    .dataframe thead th {\n",
       "        text-align: right;\n",
       "    }\n",
       "</style>\n",
       "<table border=\"1\" class=\"dataframe\">\n",
       "  <thead>\n",
       "    <tr style=\"text-align: right;\">\n",
       "      <th></th>\n",
       "      <th></th>\n",
       "      <th>dir</th>\n",
       "      <th>serial</th>\n",
       "      <th>file</th>\n",
       "      <th>status</th>\n",
       "      <th>num_entries</th>\n",
       "      <th>first_uri</th>\n",
       "    </tr>\n",
       "    <tr>\n",
       "      <th>uri</th>\n",
       "      <th>session</th>\n",
       "      <th></th>\n",
       "      <th></th>\n",
       "      <th></th>\n",
       "      <th></th>\n",
       "      <th></th>\n",
       "      <th></th>\n",
       "    </tr>\n",
       "  </thead>\n",
       "  <tbody>\n",
       "  </tbody>\n",
       "</table>\n",
       "</div>"
      ],
      "text/plain": [
       "Empty DataFrame\n",
       "Columns: [dir, serial, file, status, num_entries, first_uri]\n",
       "Index: []"
      ]
     },
     "execution_count": 85,
     "metadata": {},
     "output_type": "execute_result"
    }
   ],
   "source": [
    "df_doubles.groupby(['uri', 'session']).count()"
   ]
  },
  {
   "cell_type": "code",
   "execution_count": 86,
   "id": "bd3220e0-78a8-4d27-a454-ee5a28d1222a",
   "metadata": {},
   "outputs": [
    {
     "data": {
      "text/plain": [
       "file            object\n",
       "status          object\n",
       "serial         float64\n",
       "session         object\n",
       "num_entries      int64\n",
       "first_uri       object\n",
       "uri             object\n",
       "dir             object\n",
       "dtype: object"
      ]
     },
     "metadata": {},
     "output_type": "display_data"
    },
    {
     "data": {
      "text/plain": [
       "dir             object\n",
       "uri             object\n",
       "session         object\n",
       "serial         float64\n",
       "file             int64\n",
       "status           int64\n",
       "num_entries      int64\n",
       "first_uri        int64\n",
       "dtype: object"
      ]
     },
     "metadata": {},
     "output_type": "display_data"
    }
   ],
   "source": [
    "display(df.dtypes)\n",
    "display(df_doubles.dtypes)"
   ]
  },
  {
   "cell_type": "code",
   "execution_count": 87,
   "id": "51d9a79f-42c7-4187-8cc7-082a5fbc8de5",
   "metadata": {},
   "outputs": [
    {
     "data": {
      "text/html": [
       "<div>\n",
       "<style scoped>\n",
       "    .dataframe tbody tr th:only-of-type {\n",
       "        vertical-align: middle;\n",
       "    }\n",
       "\n",
       "    .dataframe tbody tr th {\n",
       "        vertical-align: top;\n",
       "    }\n",
       "\n",
       "    .dataframe thead th {\n",
       "        text-align: right;\n",
       "    }\n",
       "</style>\n",
       "<table border=\"1\" class=\"dataframe\">\n",
       "  <thead>\n",
       "    <tr style=\"text-align: right;\">\n",
       "      <th></th>\n",
       "      <th>file_x</th>\n",
       "      <th>status_x</th>\n",
       "      <th>num_entries_x</th>\n",
       "      <th>first_uri_x</th>\n",
       "      <th>file_y</th>\n",
       "      <th>status_y</th>\n",
       "      <th>serial</th>\n",
       "      <th>session</th>\n",
       "      <th>num_entries_y</th>\n",
       "      <th>first_uri_y</th>\n",
       "      <th>uri</th>\n",
       "      <th>dir</th>\n",
       "    </tr>\n",
       "  </thead>\n",
       "  <tbody>\n",
       "  </tbody>\n",
       "</table>\n",
       "</div>"
      ],
      "text/plain": [
       "Empty DataFrame\n",
       "Columns: [file_x, status_x, num_entries_x, first_uri_x, file_y, status_y, serial, session, num_entries_y, first_uri_y, uri, dir]\n",
       "Index: []"
      ]
     },
     "metadata": {},
     "output_type": "display_data"
    }
   ],
   "source": [
    "df_duplicate_deltas = df_doubles.merge(df, on=['dir', 'uri', 'session', 'serial'], how='left')\n",
    "display(df_duplicate_deltas)"
   ]
  },
  {
   "cell_type": "code",
   "execution_count": 88,
   "id": "a8115e71-40ea-4779-b93a-37646fb98473",
   "metadata": {},
   "outputs": [
    {
     "data": {
      "text/plain": [
       "Series([], Name: file_y, dtype: object)"
      ]
     },
     "metadata": {},
     "output_type": "display_data"
    }
   ],
   "source": [
    "display(df_duplicate_deltas[df_duplicate_deltas.uri == 'rsync.paas.rpki.prepdev.ripe.net'].file_y)"
   ]
  },
  {
   "cell_type": "code",
   "execution_count": 71,
   "id": "b341119e-0ef4-407d-b94a-c7522af2de89",
   "metadata": {},
   "outputs": [],
   "source": [
    "df_duplicate_deltas.sort_values(['session', 'serial']).to_csv(\"duplicate-hash.csv\")"
   ]
  },
  {
   "cell_type": "code",
   "execution_count": null,
   "id": "db6d234c-74ef-4d11-ad70-e3b33208f072",
   "metadata": {},
   "outputs": [],
   "source": []
  }
 ],
 "metadata": {
  "kernelspec": {
   "display_name": "Python 3 (ipykernel)",
   "language": "python",
   "name": "python3"
  },
  "language_info": {
   "codemirror_mode": {
    "name": "ipython",
    "version": 3
   },
   "file_extension": ".py",
   "mimetype": "text/x-python",
   "name": "python",
   "nbconvert_exporter": "python",
   "pygments_lexer": "ipython3",
   "version": "3.11.2"
  }
 },
 "nbformat": 4,
 "nbformat_minor": 5
}
